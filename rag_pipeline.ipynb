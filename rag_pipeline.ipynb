{
 "cells": [
  {
   "cell_type": "markdown",
   "id": "30c53dcc",
   "metadata": {},
   "source": [
    "Rag Pipeline"
   ]
  },
  {
   "cell_type": "code",
   "execution_count": null,
   "id": "7c1d00f0",
   "metadata": {},
   "outputs": [],
   "source": [
    "from langchain.text_splitter import RecursiveCharacterTextSplitter\n",
    "from langchain.docstore.document import Document\n",
    "\n",
    "from langchain.embeddings import OpenAIEmbeddings\n",
    "from langchain.vectorstores import FAISS\n",
    "\n",
    "from langchain.chat_models import ChatOpenAI\n",
    "from langchain.chains import RetrievalQA"
   ]
  },
  {
   "cell_type": "markdown",
   "id": "1f1a7671",
   "metadata": {},
   "source": [
    "Ingest & Chunk Data\n",
    "\n",
    "High potential for expansion:\n",
    "\n",
    "- German tax law (highest priority)\n",
    "\n",
    "- More USC (easiest after we have USC parser) -> no longer tax bot (law bot)\n",
    "\n",
    "- More specific US tax law"
   ]
  },
  {
   "cell_type": "code",
   "execution_count": null,
   "id": "ce0df994",
   "metadata": {},
   "outputs": [],
   "source": [
    "# Suppose you have a list of plain text sections, each with metadata\n",
    "plain_text_docs = [\n",
    "    {\"text\": \"Section 1. Gross income defined...\", \"metadata\": {\"section\": \"26 USC §1\"}},\n",
    "    {\"text\": \"Section 61. General definition of gross income...\", \"metadata\": {\"section\": \"26 USC §61\"}},\n",
    "    # ... add more\n",
    "]\n",
    "\n",
    "# Wrap into LangChain Document objects\n",
    "documents = [\n",
    "    Document(page_content=d[\"text\"], metadata=d[\"metadata\"])\n",
    "    for d in plain_text_docs\n",
    "]\n",
    "\n",
    "# Split each document into smaller chunks\n",
    "text_splitter = RecursiveCharacterTextSplitter(chunk_size=800, chunk_overlap=100)\n",
    "chunked_docs = text_splitter.split_documents(documents)"
   ]
  },
  {
   "cell_type": "markdown",
   "id": "b239da9e",
   "metadata": {},
   "source": [
    "Embed and Store\n",
    "\n",
    "This has potential for expansion:\n",
    "\n",
    "- Look at different embedding models: BERT classic, legal BERT, science BERT, tax BERT\n",
    "\n",
    "- Fine tune our own: Give sections and have it predict headers (2257 class classification problem)\n",
    "\n",
    "Remember: negative results (as long as there's something interesting are also results in academics)\n",
    "\n",
    "\n",
    "Look at the techniques for querying the vector DB well.\n",
    "\n",
    "Evaluate the precision and recall of retrieval\n",
    "\n",
    "\n",
    "\n",
    "\n"
   ]
  },
  {
   "cell_type": "code",
   "execution_count": null,
   "id": "5e9248a3",
   "metadata": {},
   "outputs": [],
   "source": [
    "# Initialize the embedding model (you must have OPENAI_API_KEY set)\n",
    "embedding_model = OpenAIEmbeddings()\n",
    "\n",
    "# Create a FAISS vector store from chunked docs\n",
    "vector_store = FAISS.from_documents(chunked_docs, embedding_model)\n",
    "\n",
    "# Optionally save to disk\n",
    "vector_store.save_local(\"faiss_tax_code_index\")"
   ]
  },
  {
   "cell_type": "markdown",
   "id": "cc5dcfc4",
   "metadata": {},
   "source": [
    "Build RAG Chain"
   ]
  },
  {
   "cell_type": "code",
   "execution_count": null,
   "id": "c9f0064b",
   "metadata": {},
   "outputs": [],
   "source": [
    "# Use ChatGPT as the LLM\n",
    "llm = ChatOpenAI(temperature=0)\n",
    "\n",
    "# Reload vector store (if needed)\n",
    "# vector_store = FAISS.load_local(\"faiss_tax_code_index\", embedding_model)\n",
    "\n",
    "# Set up retriever and QA chain\n",
    "retriever = vector_store.as_retriever(search_type=\"similarity\", k=5)\n",
    "\n",
    "qa_chain = RetrievalQA.from_chain_type(\n",
    "    llm=llm,\n",
    "    retriever=retriever,\n",
    "    chain_type=\"stuff\"  # Or use \"map_reduce\" for long documents\n",
    ")"
   ]
  },
  {
   "cell_type": "markdown",
   "id": "a5c3370e",
   "metadata": {},
   "source": [
    "Ask Tax Law Question"
   ]
  },
  {
   "cell_type": "code",
   "execution_count": null,
   "id": "d6e38852",
   "metadata": {},
   "outputs": [],
   "source": [
    "query = \"Is the income from renting out my garage taxable under federal law?\"\n",
    "response = qa_chain.run(query)\n",
    "\n",
    "print(\"Answer:\")\n",
    "print(response)"
   ]
  }
 ],
 "metadata": {
  "kernelspec": {
   "display_name": "general",
   "language": "python",
   "name": "python3"
  },
  "language_info": {
   "name": "python",
   "version": "3.10.16"
  }
 },
 "nbformat": 4,
 "nbformat_minor": 5
}
