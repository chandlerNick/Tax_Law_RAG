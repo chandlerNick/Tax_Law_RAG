{
 "cells": [
  {
   "cell_type": "markdown",
   "id": "5bda42bc",
   "metadata": {},
   "source": [
    "# Publish FT BERT"
   ]
  },
  {
   "cell_type": "code",
   "execution_count": null,
   "id": "f1b6cf17",
   "metadata": {},
   "outputs": [],
   "source": [
    "import os\n",
    "from huggingface_hub import login\n",
    "from huggingface_hub import HfApi\n",
    "from sentence_transformers import SentenceTransformer, models"
   ]
  },
  {
   "cell_type": "markdown",
   "id": "b36957b6",
   "metadata": {},
   "source": [
    "Conversion to sentence transformer"
   ]
  },
  {
   "cell_type": "code",
   "execution_count": null,
   "id": "b5a3f960",
   "metadata": {},
   "outputs": [],
   "source": [
    "# Load your BERT model checkpoint\n",
    "word_embedding_model = models.Transformer('chandlerNick/USC26_Subtitle_Classification_BERT')\n",
    "\n",
    "# Use CLS pooling explicitly\n",
    "pooling_model = models.Pooling(\n",
    "    word_embedding_model.get_word_embedding_dimension(),\n",
    "    pooling_mode_cls_token=True,\n",
    "    pooling_mode_mean_tokens=False,\n",
    "    pooling_mode_max_tokens=False\n",
    ")\n",
    "\n",
    "model = SentenceTransformer(modules=[word_embedding_model, pooling_model])\n",
    "\n",
    "# Save as a Sentence Transformers model locally\n",
    "model.save('/DL-data/Tax_Law_RAG/usc26/sentence_transformers_usc26_bert')"
   ]
  },
  {
   "cell_type": "markdown",
   "id": "63dd82b4",
   "metadata": {},
   "source": [
    "Push to hugging face"
   ]
  },
  {
   "cell_type": "code",
   "execution_count": null,
   "id": "755c97f3",
   "metadata": {},
   "outputs": [
    {
     "data": {
      "text/plain": [
       "CommitInfo(commit_url='https://huggingface.co/chandlerNick/sentence-transformers-usc26-bert/commit/4b7036333d5b5d9294b11da36054ea29e7be7a79', commit_message='Upload folder using huggingface_hub', commit_description='', oid='4b7036333d5b5d9294b11da36054ea29e7be7a79', pr_url=None, repo_url=RepoUrl('https://huggingface.co/chandlerNick/sentence-transformers-usc26-bert', endpoint='https://huggingface.co', repo_type='model', repo_id='chandlerNick/sentence-transformers-usc26-bert'), pr_revision=None, pr_num=None)"
      ]
     },
     "execution_count": 16,
     "metadata": {},
     "output_type": "execute_result"
    }
   ],
   "source": [
    "login(\"\")  # Token goes here!  os.getenv(\"HF_TOKEN\")\n",
    "\n",
    "api = HfApi(token=\"\")\n",
    "api.upload_folder(\n",
    "    folder_path=\"/DL-data/Tax_Law_RAG/usc26/sentence_transformers_usc26_bert\",\n",
    "    repo_id=\"chandlerNick/sentence-transformers-usc26-bert\",\n",
    "    repo_type=\"model\",\n",
    ")"
   ]
  },
  {
   "cell_type": "markdown",
   "id": "2cad43a1",
   "metadata": {},
   "source": [
    "Test that langchain can use it"
   ]
  },
  {
   "cell_type": "code",
   "execution_count": 17,
   "id": "d1386aca",
   "metadata": {},
   "outputs": [],
   "source": [
    "from langchain.embeddings import HuggingFaceEmbeddings\n",
    "\n",
    "embedding_model = HuggingFaceEmbeddings(\n",
    "    model_name=\"chandlerNick/sentence-transformers-usc26-bert\",\n",
    ")"
   ]
  },
  {
   "cell_type": "code",
   "execution_count": 18,
   "id": "a631c4b3",
   "metadata": {},
   "outputs": [
    {
     "name": "stdout",
     "output_type": "stream",
     "text": [
      "Embedding size: 768\n",
      "First 5 values: [-0.34007251262664795, 0.7162832021713257, 0.896626889705658, 0.33382704854011536, 0.25070375204086304]\n"
     ]
    }
   ],
   "source": [
    "text = \"Income means all income from whatever source derived.\"\n",
    "embedding = embedding_model.embed_query(text)\n",
    "\n",
    "print(\"Embedding size:\", len(embedding))\n",
    "print(\"First 5 values:\", embedding[:5])"
   ]
  }
 ],
 "metadata": {
  "kernelspec": {
   "display_name": ".dsw_env",
   "language": "python",
   "name": "python3"
  },
  "language_info": {
   "codemirror_mode": {
    "name": "ipython",
    "version": 3
   },
   "file_extension": ".py",
   "mimetype": "text/x-python",
   "name": "python",
   "nbconvert_exporter": "python",
   "pygments_lexer": "ipython3",
   "version": "3.11.9"
  }
 },
 "nbformat": 4,
 "nbformat_minor": 5
}
