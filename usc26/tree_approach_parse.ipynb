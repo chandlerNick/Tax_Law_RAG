{
 "cells": [
  {
   "cell_type": "markdown",
   "id": "8ec1b337",
   "metadata": {},
   "source": [
    "Here I consider the USC 26 as a tree and seek to parse it by fusing the nodes"
   ]
  },
  {
   "cell_type": "code",
   "execution_count": 2,
   "id": "84a104dd",
   "metadata": {},
   "outputs": [],
   "source": [
    "from lxml import etree\n",
    "\n",
    "NS = {'uslm': 'http://xml.house.gov/schemas/uslm/1.0',\n",
    "      'xhtml': 'http://www.w3.org/1999/xhtml'}"
   ]
  },
  {
   "cell_type": "code",
   "execution_count": null,
   "id": "93e71ba3",
   "metadata": {},
   "outputs": [],
   "source": [
    "# Diagnostic code\n",
    "\n",
    "def get_tree_depth(node):\n",
    "    if len(node) == 0:\n",
    "        return 1\n",
    "    else:\n",
    "        return 1 + max(get_tree_depth(child) for child in node)\n",
    "    \n",
    "def count_leaves(node):\n",
    "    if len(node) == 0:  # no children = leaf\n",
    "        return 1\n",
    "    else:\n",
    "        return sum(count_leaves(child) for child in node)\n",
    "    \n",
    "\n",
    "def get_nodes_at_depth(root, target_depth, current_depth=0):\n",
    "    \"\"\"\n",
    "    Recursively get all nodes at a certain depth.\n",
    "    \"\"\"\n",
    "    if current_depth == target_depth:\n",
    "        return [root]\n",
    "    nodes = []\n",
    "    for child in root:\n",
    "        nodes.extend(get_nodes_at_depth(child, target_depth, current_depth + 1))\n",
    "    return nodes\n"
   ]
  }
 ],
 "metadata": {
  "kernelspec": {
   "display_name": "general",
   "language": "python",
   "name": "python3"
  },
  "language_info": {
   "codemirror_mode": {
    "name": "ipython",
    "version": 3
   },
   "file_extension": ".py",
   "mimetype": "text/x-python",
   "name": "python",
   "nbconvert_exporter": "python",
   "pygments_lexer": "ipython3",
   "version": "3.10.16"
  }
 },
 "nbformat": 4,
 "nbformat_minor": 5
}
