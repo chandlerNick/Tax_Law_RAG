{
 "cells": [
  {
   "cell_type": "markdown",
   "id": "205ea99f",
   "metadata": {},
   "source": [
    "# Fine Tuning Data"
   ]
  },
  {
   "cell_type": "markdown",
   "id": "bd27a49d",
   "metadata": {},
   "source": [
    "Current outlook:\n",
    "\n",
    "1. Get GPUs.\n",
    "2. Split Docs using a recursive splitter in langchain.\n",
    "3. Fine tune baseBERT (and/or legalBERT) to classify the subtitle given a section of text. \n",
    "4. Create 3 Vector stores each with one of the embedding models from: (baseBERT, LegalBERT, FinetunedBERT).\n",
    "5. Compare the cluster compactness in the vector stores\n",
    "5. Query with text you know is in the data -> can get precision and recall\n",
    "6. Look at making this a RAG system & compare with a tiny GPT or one that doesn't have a lot of legal data"
   ]
  },
  {
   "cell_type": "code",
   "execution_count": 1,
   "id": "1c89d26f",
   "metadata": {},
   "outputs": [],
   "source": [
    "from lxml import etree\n",
    "\n",
    "NS = {'uslm': 'http://xml.house.gov/schemas/uslm/1.0',\n",
    "      'xhtml': 'http://www.w3.org/1999/xhtml'}"
   ]
  },
  {
   "cell_type": "code",
   "execution_count": 2,
   "id": "b0b16764",
   "metadata": {},
   "outputs": [],
   "source": [
    "def parse_subtitles(file_path):\n",
    "    with open(file_path, 'rb') as f:\n",
    "        tree = etree.parse(f)\n",
    "    \n",
    "    subtitles = tree.findall('.//uslm:subtitle', namespaces=NS)\n",
    "    parsed = []\n",
    "\n",
    "    for subtitle in subtitles:\n",
    "        # Extract subtitle heading or name\n",
    "        heading = subtitle.find('uslm:heading', namespaces=NS)\n",
    "        heading_text = heading.text.strip() if heading is not None else \"\"\n",
    "\n",
    "        # Get all text under subtitle (including paragraphs and nested tags)\n",
    "        content_texts = []\n",
    "        # Here, use `.//uslm:p` to get paragraphs or `.//` to get all text nodes under subtitle\n",
    "        for elem in subtitle.findall('.//uslm:p', namespaces=NS):\n",
    "            text = ' '.join(elem.itertext()).strip()\n",
    "            if text:\n",
    "                content_texts.append(text)\n",
    "\n",
    "        parsed.append({\n",
    "            \"subtitle\": heading_text,\n",
    "            \"content\": \"\\n\".join(content_texts)\n",
    "        })\n",
    "\n",
    "    return parsed\n",
    "\n",
    "# Example usage\n",
    "subtitles = parse_subtitles(\"./usc26.xml\")"
   ]
  },
  {
   "cell_type": "code",
   "execution_count": null,
   "id": "fc0e81e2",
   "metadata": {},
   "outputs": [],
   "source": [
    "print(f\"There are {len(subtitles)} subtitles collected\")"
   ]
  },
  {
   "cell_type": "markdown",
   "id": "36463b6e",
   "metadata": {},
   "source": [
    "The subtitles are called"
   ]
  },
  {
   "cell_type": "code",
   "execution_count": null,
   "id": "5cdb4434",
   "metadata": {},
   "outputs": [
    {
     "data": {
      "text/plain": [
       "['Income Taxes',\n",
       " 'Estate and Gift Taxes',\n",
       " 'Employment Taxes',\n",
       " 'Miscellaneous Excise Taxes',\n",
       " 'Alcohol, Tobacco, and Certain Other Excise Taxes',\n",
       " 'Procedure and Administration',\n",
       " 'The Joint Committee on Taxation',\n",
       " 'Financing of Presidential Election Campaigns',\n",
       " 'Trust Fund Code',\n",
       " 'Coal Industry Health Benefits',\n",
       " 'Group Health Plan Requirements']"
      ]
     },
     "metadata": {},
     "output_type": "display_data"
    }
   ],
   "source": [
    "[d['subtitle'] for d in subtitles]"
   ]
  },
  {
   "cell_type": "markdown",
   "id": "2e38cc72",
   "metadata": {},
   "source": [
    "Length of each Subtitle in characters"
   ]
  },
  {
   "cell_type": "code",
   "execution_count": null,
   "id": "cdbe699f",
   "metadata": {},
   "outputs": [
    {
     "data": {
      "text/plain": [
       "[10495568,\n",
       " 429618,\n",
       " 926266,\n",
       " 1099066,\n",
       " 688201,\n",
       " 3266091,\n",
       " 18316,\n",
       " 53768,\n",
       " 250834,\n",
       " 43385,\n",
       " 98520]"
      ]
     },
     "metadata": {},
     "output_type": "display_data"
    }
   ],
   "source": [
    "[len(d['content']) for d in subtitles]"
   ]
  },
  {
   "cell_type": "markdown",
   "id": "ae1e6d83",
   "metadata": {},
   "source": [
    "Example Section"
   ]
  },
  {
   "cell_type": "code",
   "execution_count": null,
   "id": "897031ca",
   "metadata": {},
   "outputs": [
    {
     "data": {
      "text/plain": [
       "'The Joint Committee on Taxation'"
      ]
     },
     "metadata": {},
     "output_type": "display_data"
    }
   ],
   "source": [
    "subtitles[-5]['subtitle']"
   ]
  },
  {
   "cell_type": "code",
   "execution_count": null,
   "id": "50114607",
   "metadata": {},
   "outputs": [
    {
     "data": {
      "text/plain": [
       "'1976— Pub. L. 94–455, title XIX, §\\u202f1907(b)(1) ,  Oct. 4, 1976 ,  90 Stat. 1836 , struck out “Internal Revenue” in heading of subtitle G.\\nThere shall be a joint congressional committee known as the Joint Committee on Taxation (hereinafter in this subtitle referred to as the “Joint Committee”).\\n1976— Pub. L. 94–455  struck out “Internal Revenue” after “Committee on”.\\nPub. L. 94–455, title XIX, §\\u202f1907(c) ,  Oct. 4, 1976 ,  90 Stat. 1836 , provided that:  “The amendments made by this section [amending this section and sections 8004, 8021, and 8023 of this title and enacting provisions set out below] shall take effect on the first day of the first month which begins more than 90 days after the date of the enactment of this Act [ Oct. 4, 1976 ].”\\nPub. L. 94–455, title XIX, §\\u202f1907(a)(5) ,  Oct. 4, 1976 ,  90 Stat. 1836 , provided that:  “All references in any other statute, or in any rule, regulation, or order, to the Joint Committee on Internal Revenue Taxation shall be considered to be made to the Joint Committee on Taxation.”\\nFive members who are members of the Committee on Finance of the Senate, three from the majority and two from the minority party, to be chosen by such Committee; and\\nFive members who are members of the Committee on Ways and Means of the House of Representatives, three from the majority and two from the minority party, to be chosen by such Committee.\\nNo person shall continue to serve as a member of the Joint Committee after he has ceased to be a member of the Committee by which he was chosen, except that—\\nThe members chosen by the Committee on Ways and Means who have been reelected to the House of Representatives may continue to serve as members of the Joint Committee notwithstanding the expiration of the Congress.\\nShall not affect the power of the remaining members to execute the functions of the Joint Committee; and\\nIn case of a vacancy during an adjournment or recess of Congress for a period of more than 2 weeks, the members of the Joint Committee who are members of the Committee entitled to fill such vacancy may designate a member of such Committee to serve until his successor is chosen by such Committee; and\\nIn the case of a vacancy after the expiration of a Congress which would be filled by the Committee on Ways and Means, the members of such Committee who are continuing to serve as members of the Joint Committee may designate a person who, immediately prior to such expiration, was a member of such Committee and who is re-elected to the House of Representatives, to serve until his successor is chosen by such Committee.\\nThe members shall serve without compensation in addition to that received for their services as members of Congress; but they shall be reimbursed for travel, subsistence, and other necessary expenses incurred by them in the performance of the duties vested in the Joint Committee, other than expenses in connection with meetings of the Joint Committee held in the District of Columbia during such times as the Congress is in session.\\nThe Joint Committee shall elect a chairman and vice chairman from among its members.\\nExcept as otherwise provided by law, the Joint Committee shall have power to appoint and fix the compensation of the Chief of Staff of the Joint Committee and such experts and clerical, stenographic, and other assistants as it deems advisable.\\n1976— Pub. L. 94–455  substituted “compensation of the Chief of Staff of the Joint Committee” for “compensation of a clerk” after “appoint and fix the”.\\nAmendment by  Pub. L. 94–455  effective on first day of first month which begins more than 90 days after  Oct. 4, 1976 , see  section 1907(c) of Pub. L. 94–455 , set out as a note under  section 8001 of this title .\\nThe expenses of the Joint Committee shall be paid one-half from the contingent fund of the Senate and one-half from the contingent fund of the House of Representatives, upon vouchers signed by the chairman or the vice chairman.\\nFor powers of the Joint Committee to obtain and inspect income returns, see section 6103(f).\\nTo hold hearings and to sit and act at such places and times;\\nTo require by subpoena (to be issued under the signature of the chairman or vice chairman) or otherwise the attendance of such witnesses and the production of such books, papers, and documents;\\nTo administer such oaths; and\\nTo take such testimony;\\nThe Joint Committee, or any subcommittee thereof, is authorized to have such printing and binding done as it deems advisable.\\nThe Joint Committee, or any subcommittee thereof, is authorized to make such expenditures as it deems advisable.\\nThe Joint Committee shall review all requests (other than requests by the chairman or ranking member of a committee or subcommittee) for investigations of the Internal Revenue Service by the Government Accountability Office, and approve such requests when appropriate, with a view towards eliminating overlapping investigations, ensuring that the Government Accountability Office has the capacity to handle the investigation, and ensuring that investigations focus on areas of primary importance to tax administration.\\n2018—Subsec. (f).  Pub. L. 115–141  struck out subsec. (f) which related to joint reviews of the strategic plans and budget for the Internal Revenue Service.\\n2005—Subsec. (e).  Pub. L. 109–135  substituted “Government Accountability Office” for “General Accounting Office” in two places.\\n2004—Subsec. (f)(2).  Pub. L. 108–311  substituted “2005” for “2004”.\\n1998—Subsecs. (e), (f).  Pub. L. 105–206  added subsecs. (e) and (f).\\n1988—Subsec. (a).  Pub. L. 100–647  substituted “6103(f)” for “6103(d)”.\\n1976—Subsec. (d).  Pub. L. 94–455  struck out par. (2) relating to limitation on cost of stenographic services in reporting hearings.\\nPub. L. 105–206, title IV, §\\u202f4001(b) ,  July 22, 1998 ,  112 Stat. 784 , provided that: \\n “(1)  Subsection (e) of section 8021 of the Internal Revenue Code of 1986, as added by subsection (a) of this section [amending this section], shall apply to requests made after the date of the enactment of this Act [ July 22, 1998 ]. \\n \\n “(2)  Subsection (f) of such section shall take effect on the date of the enactment of this Act.”\\nAmendment by  Pub. L. 100–647  effective, except as otherwise provided, as if included in the provision of the Tax Reform Act of 1986,  Pub. L. 99–514 , to which such amendment relates, see  section 1019(a) of Pub. L. 100–647 , set out as a note under  section 1 of this title .\\nAmendment by  Pub. L. 94–455  effective on first day of first month which begins more than 90 days after  Oct. 4, 1976 , see  section 1907(c) of Pub. L. 94–455 , set out as a note under  section 8001 of this title .\\nFor provisions that nothing in amendment by  Pub. L. 115–141  be construed to affect treatment of certain transactions occurring, property acquired, or items of income, loss, deduction, or credit taken into account prior to  Mar. 23, 2018 , for purposes of determining liability for tax for periods ending after  Mar. 23, 2018 , see  section 401(e) of Pub. L. 115–141 , set out as a note under  section 23 of this title .\\nPub. L. 108–311, title III, §\\u202f321(c) ,  Oct. 4, 2004 ,  118 Stat. 1182 , provided that the joint review required by section 8021(f)(2) of the Internal Revenue Code of 1986 ( 26 U.S.C. 8021(f)(2) ) to be made before  June 1, 2004 , was to be treated as timely if made before  June 1, 2005 .\\nTo investigate the operation and effects of the Federal system of internal revenue taxes;\\nTo investigate the administration of such taxes by the Internal Revenue Service or any executive department, establishment, or agency charged with their administration; and\\nTo make such other investigations in respect of such system of taxes as the Joint Committee may deem necessary.\\nTo investigate measures and methods for the simplification of such taxes, particularly the income tax; and\\nTo publish, from time to time, for public examination and analysis, proposed measures and methods for the simplification of such taxes.\\nFor duties of the Joint Committee relating to refunds of income and estate taxes, see section 6405.\\n2018—Par. (3)(C).  Pub. L. 115–141  struck out subpar. (C) which read as follows: “To report, for each calendar year after 1998 and before 2005, to the Committees on Finance, Appropriations, and Governmental Affairs of the Senate, and to the Committees on Ways and Means, Appropriations, and Government Reform and Oversight of the House of Representatives, with respect to the matters addressed in the joint review referred to in section 8021(f)(2).”\\n2004—Par. (3)(C).  Pub. L. 108–311  substituted “2005” for “2004” and “with respect to the matters addressed in the joint review referred to in section 8021(f)(2).” for “with respect to—\\n“(i) strategic and business plans for the Internal Revenue Service;\\n“(ii) progress of the Internal Revenue Service in meeting its objectives;\\n“(iii) the budget for the Internal Revenue Service and whether it supports its objectives;\\n“(iv) progress of the Internal Revenue Service in improving taxpayer service and compliance;\\n“(v) progress of the Internal Revenue Service on technology modernization; and\\n“(vi) the annual filing season.”\\n1998—Par. (3).  Pub. L. 105–206  reenacted heading without change and amended text generally. Prior to amendment, text read as follows: “To report, from time to time, to the Committee on Finance and the Committee on Ways and Means, and, in its discretion, to the Senate or the House of Representatives, or both, the results of its investigations, together with such recommendation as it may deem advisable.”\\nPub. L. 105–206, title IV, §\\u202f4002(b) ,  July 22, 1998 ,  112 Stat. 784 , provided that:  “The amendment made by this section [amending this section] shall take effect on the date of the enactment of this Act [ July 22, 1998 ].”\\nFor provisions that nothing in amendment by  Pub. L. 115–141  be construed to affect treatment of certain transactions occurring, property acquired, or items of income, loss, deduction, or credit taken into account prior to  Mar. 23, 2018 , for purposes of determining liability for tax for periods ending after  Mar. 23, 2018 , see  section 401(e) of Pub. L. 115–141 , set out as a note under  section 23 of this title .\\nPub. L. 105–206, title IV, §\\u202f4022(b) ,  July 22, 1998 ,  112 Stat. 785 , provided that: \\n “(1)   In general .— The Joint Committee on Taxation, in consultation with the Internal Revenue Service and the Department of the Treasury, shall include a tax complexity analysis in each report for legislation, or provide such analysis to members of the committee reporting the legislation as soon as practicable after the report is filed, if— “(A)  such legislation is reported by the Committee on Finance in the Senate, the Committee on Ways and Means of the House of Representatives, or any committee of conference; and \\n \\n “(B)  such legislation includes a provision which would directly or indirectly amend the Internal Revenue Code of 1986 and which has widespread applicability to individuals or small businesses. \\n \\n \\n “(2)   Tax complexity analysis .— For purposes of this subsection, the term ‘tax complexity analysis’ means, with respect to any legislation, a report on the complexity and administrative difficulties of each provision described in paragraph (1)(B) which— “(A)  includes— “(i)  an estimate of the number of taxpayers affected by the provision; and \\n \\n “(ii)  if applicable, the income level of taxpayers affected by the provision; and \\n \\n \\n “(B)  should include (if determinable)— “(i)  the extent to which tax forms supplied by the Internal Revenue Service would require revision and whether any new forms would be required; \\n \\n “(ii)  the extent to which taxpayers would be required to keep additional records; \\n \\n “(iii)  the estimated cost to taxpayers to comply with the provision; \\n \\n “(iv)  the extent to which enactment of the provision would require the Internal Revenue Service to develop or modify regulatory guidance; \\n \\n “(v)  the extent to which the provision may result in disagreements between taxpayers and the Internal Revenue Service; and \\n \\n “(vi)  any expected impact on the Internal Revenue Service from the provision (including the impact on internal training, revision of the Internal Revenue Manual, reprogramming of computers, and the extent to which the Internal Revenue Service would be required to divert or redirect resources in response to the provision). \\n \\n \\n \\n “(3)   Legislation subject to point of order in house of representatives .— \\n [Amended the Rules of the House of Representatives, which are not classified to the Code.] \\n \\n “(4)   Effective date .— This subsection shall apply to legislation considered on and after  January 1, 1999 .”\\n[Amended the Rules of the House of Representatives, which are not classified to the Code.]\\nPub. L. 94–455, title V, §\\u202f507 ,  Oct. 4, 1976 ,  90 Stat. 1569 , mandated a full and complete study by the Joint Committee on Taxation with respect to simplifying the tax laws and the feasibility of a reduction of tax rates; a report of such study with recommendations was to be submitted to the committees of Congress before  July 1, 1977 .\\nPub. L. 94–455, title XV, §\\u202f1509 ,  Oct. 4, 1976 ,  90 Stat. 1741 , directed Joint Committee on Taxation to carry out study with respect to broadening class of individuals eligible to claim deduction for retirement savings under section 219 or 220 of this title, and to report its findings to Committee on Ways and Means of the House of Representatives and to Committee on Finance of the Senate.\\nPub. L. 94–455, title XXI, §\\u202f2133 ,  Oct. 4, 1976 ,  90 Stat. 1925 , mandated a study by the Joint Committee on Taxation, in consultation with the Treasury, of the cost effectiveness of different kinds of tax incentives, including an analysis of the most effective way to use tax cuts to provide economic stimulus; such report with its recommendations was to be submitted to the Committees of Congress no later than  Sept. 30, 1977 .\\nThe Joint Committee or the Chief of Staff of the Joint Committee, upon approval of the Chairman or Vice Chairman, is authorized to secure directly from the Internal Revenue Service, or the office of the Chief Counsel for the Internal Revenue Service, or directly from any executive department, board, bureau, agency, independent establishment, or instrumentality of the Government, information, suggestions, rulings, data, estimates, and statistics, for the purpose of making investigations, reports, and studies relating to internal revenue taxation. In the investigation by the Joint Committee on Taxation of the administration of the internal revenue taxes by the Internal Revenue Service, the Chief of Staff of the Joint Committee on Taxation is authorized to secure directly from the Internal Revenue Service such tax returns, or copies of tax returns, and other relevant information, as the Chief of Staff deems necessary for such investigation, and the Internal Revenue Service is authorized and directed to furnish such tax returns and information to the Chief of Staff together with a brief report, with respect to each return, as to any action taken or proposed to be taken by the Service as a result of any audit of the return.\\nThe Internal Revenue Service, the office of the Chief Counsel for the Internal Revenue Service, executive departments, boards, bureaus, agencies, independent establishments, and instrumentalities are authorized and directed to furnish such information, suggestions, rulings, data, estimates, and statistics directly to the Joint Committee or to the Chief of Staff of the Joint Committee, upon request made pursuant to this section.\\nSubsections (a) and (b) shall be applied in accordance with their provisions without regard to any reorganization plan becoming effective on, before, or after the date of the enactment of this subsection.\\nThe date of the enactment of this subsection, referred to in subsec. (c), is  Aug. 16, 1954 , the date of enactment of  act Aug. 16, 1954, ch. 736 ,  68A Stat. 4 , which enacted this title.\\n1976—Subsec. (a).  Pub. L. 94–455, §\\u202f1210(c) , inserted provision that in investigation by Joint Committee on Taxation of the administration of the internal revenue taxes by the Internal Revenue Service, the Chief of Staff of the Joint Committee on Taxation is authorized to secure directly from the Internal Revenue Service such tax returns, or copies of tax returns, and other relevant information, as the Chief of Staff deems necessary for such investigation, and the Internal Revenue Service is authorized and directed to furnish such tax returns and information to the Chief of Staff together with a brief report, with respect to each return, as to any action taken or proposed to be taken by the Service as a result of any audit of the return.\\nSubsec. (c).  Pub. L. 94–455, §\\u202f1907(a)(4) , substituted “any” for “Reorganization Plan Numbered 26 of 1950 or to any other” after “without regard to” and “the date of the enactment of this subsection” for “ February 28, 1951 ” after “before, or after”.\\n1959—Subsec. (a).  Pub. L. 86–368, §\\u202f2(b)(1) , substituted “or the office of the Chief Counsel for the Internal Revenue Service” for “(including the Assistant General Counsel of the Treasury Department serving as the Chief Counsel of the Internal Revenue Service)”.\\nSubsec. (b).  Pub. L. 86–368, §\\u202f2(b)(2) , substituted “,\\u2000the office of the Chief Counsel for the Internal Revenue Service” for “(including the Assistant General Counsel of the Treasury Department serving as the Chief Counsel of the Internal Revenue Service)”.\\nPub. L. 94–455, title XII, §\\u202f1210(d)(2) ,  Oct. 4, 1976 ,  90 Stat. 1711 , provided that:  “The amendment made by subsection (c) [amending this section] shall take effect on  January 1, 1977 .”\\nAmendment by  section 1907(a)(4) of Pub. L. 94–455  effective on first day of first month which begins more than 90 days after  Oct. 4, 1976 , see  section 1907(c) of Pub. L. 94–455 , set out as a note under  section 8001 of this title .\\nAmendment by  Pub. L. 86–368  effective when Chief Counsel for Internal Revenue Service first appointed pursuant to amendment of  section 7801 of this title  by  Pub. L. 86–368  qualifies and takes office, see  section 3(b) of Pub. L. 86–368 , set out as a note under  section 7801 of this title .'"
      ]
     },
     "metadata": {},
     "output_type": "display_data"
    }
   ],
   "source": [
    "subtitles[-5]['content']"
   ]
  },
  {
   "cell_type": "markdown",
   "id": "f5173288",
   "metadata": {},
   "source": [
    "## Lang chain doc splitter"
   ]
  },
  {
   "cell_type": "code",
   "execution_count": null,
   "id": "b96a5aa5",
   "metadata": {},
   "outputs": [],
   "source": []
  },
  {
   "cell_type": "markdown",
   "id": "c97c35ae",
   "metadata": {},
   "source": [
    "## Fine Tuning Setup (start with BERT base)\n",
    "\n",
    "Need to emphasize this, this is a large part of DL"
   ]
  },
  {
   "cell_type": "code",
   "execution_count": null,
   "id": "6a91c6ff",
   "metadata": {},
   "outputs": [],
   "source": []
  },
  {
   "cell_type": "code",
   "execution_count": null,
   "id": "16044690",
   "metadata": {},
   "outputs": [],
   "source": []
  },
  {
   "cell_type": "code",
   "execution_count": null,
   "id": "7b126fd1",
   "metadata": {},
   "outputs": [],
   "source": []
  },
  {
   "cell_type": "markdown",
   "id": "c590dc2d",
   "metadata": {},
   "source": [
    "## Fine Tuning Setup (start with LegalBERT)\n",
    "\n",
    "Need to emphasize this, this is a large part of DL"
   ]
  },
  {
   "cell_type": "code",
   "execution_count": null,
   "id": "edcc4d3b",
   "metadata": {},
   "outputs": [],
   "source": []
  },
  {
   "cell_type": "code",
   "execution_count": null,
   "id": "dc7f1842",
   "metadata": {},
   "outputs": [],
   "source": []
  },
  {
   "cell_type": "markdown",
   "id": "876a23b0",
   "metadata": {},
   "source": [
    "## Vector DB Creation (x4)"
   ]
  },
  {
   "cell_type": "code",
   "execution_count": null,
   "id": "fd5b1ba1",
   "metadata": {},
   "outputs": [],
   "source": []
  },
  {
   "cell_type": "code",
   "execution_count": null,
   "id": "c3f9b8fa",
   "metadata": {},
   "outputs": [],
   "source": []
  },
  {
   "cell_type": "markdown",
   "id": "e19be90e",
   "metadata": {},
   "source": [
    "## Vector DB Evaluation & Comparison (x4)\n",
    "\n",
    "Look at the Prec and Recall\n",
    "\n",
    "    Ask for items you know are in the database (fragments of text from langchain documents), \n",
    "        if it returns the same item -> hit, \n",
    "        else -> miss\n",
    "\n",
    "Look at cluster compactness\n",
    "\n",
    "Project embedding space using PCA or t-SNE and color code each subtitle to see if there is grouping there. Compare this among the different models.\n"
   ]
  },
  {
   "cell_type": "code",
   "execution_count": null,
   "id": "b41b0671",
   "metadata": {},
   "outputs": [],
   "source": []
  },
  {
   "cell_type": "code",
   "execution_count": null,
   "id": "78992d15",
   "metadata": {},
   "outputs": [],
   "source": []
  },
  {
   "cell_type": "markdown",
   "id": "107088e8",
   "metadata": {},
   "source": [
    "## RAG System Setup (Small Model)\n",
    "\n",
    "RAG can be useful for LLMs that are missing information (e.g. from compression or lack of current data)\n",
    "\n",
    "Use BERT Base and best performing fine tune"
   ]
  },
  {
   "cell_type": "code",
   "execution_count": null,
   "id": "f79813a9",
   "metadata": {},
   "outputs": [],
   "source": []
  },
  {
   "cell_type": "code",
   "execution_count": null,
   "id": "de64f336",
   "metadata": {},
   "outputs": [],
   "source": []
  },
  {
   "cell_type": "markdown",
   "id": "67d325ba",
   "metadata": {},
   "source": [
    "## RAG System Comparison (Qualitative)\n",
    "\n",
    "A few in-data questions\n",
    "\n",
    "A few out-of-data questions\n",
    "\n"
   ]
  }
 ],
 "metadata": {
  "kernelspec": {
   "display_name": "general",
   "language": "python",
   "name": "python3"
  },
  "language_info": {
   "codemirror_mode": {
    "name": "ipython",
    "version": 3
   },
   "file_extension": ".py",
   "mimetype": "text/x-python",
   "name": "python",
   "nbconvert_exporter": "python",
   "pygments_lexer": "ipython3",
   "version": "3.10.16"
  }
 },
 "nbformat": 4,
 "nbformat_minor": 5
}
